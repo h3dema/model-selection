{
 "cells": [
  {
   "cell_type": "markdown",
   "id": "30e65ca2",
   "metadata": {},
   "source": [
    "# How to implement a if-based constraint in MILP\n",
    "\n",
    "We want to expand the MILP defined in [`limit energy notebook`](limit-energy.ipynb) by adding the following constraint:\n",
    "\n",
    "\n",
    "$$\n",
    "E_t^{lower} =\n",
    "\\begin{cases}\n",
    "E_{t-1} + Eh_t, & \\text{if } E_{t-1} \\le 0 \\\\\n",
    "E_{t-1} + Eh_t - Ec_t, & \\text{if } E_{t-1} > 0\n",
    "\\end{cases}\n",
    "$$\n",
    "\n",
    "where $E_t$ is the energy level at time $t$, $Eh_t$ is the energy harvested at time $t$, and $Ec_t$ is the energy consumed at time $t$.\n",
    "\n",
    "At the same time, we want to limit the energy level to a maximum value $E_{\\max}$.\n",
    "\n",
    "$$\n",
    "E_t = \\min\\big(E_{\\max}, \\; E_t^{lower}\\big), \\forall t \\in \\{1,\\dots,T\\}\n",
    "$$\n",
    "\n",
    "with $E_0 = \\text{const}$.\n",
    "\n",
    "This is a conditional update, which is not linear as written, but we still can encode it in MILP using a binary variable and the big-M trick.\n"
   ]
  },
  {
   "cell_type": "markdown",
   "id": "ee5e9e0a",
   "metadata": {},
   "source": [
    "### MILP Formulation\n",
    "\n",
    "* Variables:\n",
    "\n",
    "  * $E_t \\in [0, E_{\\max}]$ (continuous, energy at time $t$)\n",
    "  * $y_t \\in \\{0,1\\}$ (binary, indicates whether the cap $E_{\\max}$ is binding at time $t$)\n",
    "  * $z_t \\in \\{0,1\\}$ (binary, indicates whether $E_{t-1} > 0$ as shown below)\n",
    "\n",
    "$$\n",
    "z_t =\n",
    "\\begin{cases}\n",
    "1 & \\text{if } E_{t-1} > 0 \\\\\n",
    "0 & \\text{if } E_{t-1} \\le 0\n",
    "\\end{cases}\n",
    "$$\n",
    "\n",
    "\n",
    "* Parameters:\n",
    "\n",
    "  * $E_{\\max}$ (capacity, constant)\n",
    "  * $Eh_t = f(t)$   (energy harvested at time $t$)\n",
    "  * $Ec_t = g(t)$   (energy consumed at time $t$)\n"
   ]
  },
  {
   "cell_type": "markdown",
   "id": "e3f22b56",
   "metadata": {},
   "source": [
    "#### Constraints\n",
    "\n",
    "For all $t = 1,\\dots,T$:\n",
    "\n",
    "1. Initial condition\n",
    "\n",
    "$$\n",
    "E_0 = \\text{const}.\n",
    "$$\n",
    "\n",
    "2. The unified equation is:\n",
    "\n",
    "$$\n",
    "E_t^{lower} = E_{t-1} + Eh_t - z_t\\cdot Ec_t\n",
    "$$\n",
    "\n",
    "3. Enforcing consistency of first equation with $z_t$:\n",
    "\n",
    "We need constraints to tie $z_t$ with the condition on $E_{t-1}$:\n",
    "\n",
    "* If $E_{t-1} \\le 0$, then $z_t=0$.\n",
    "* If $E_{t-1} > 0$, then $z_t=1$.\n",
    "\n",
    "Those conditions can be expressed using **big-M constraints** with a sufficiently large $M$:\n",
    "\n",
    "$$\n",
    "E_{t-1} \\le M \\cdot z_t\n",
    "$$\n",
    "\n",
    "$$\n",
    "E_{t-1} \\ge \\epsilon - M \\cdot (1 - z_t)\n",
    "$$\n",
    "\n",
    "Here $\\epsilon > 0$ is a small constant to break ties (e.g. $10^{-6}$).\n",
    "\n",
    "\n",
    "4. Limit maximum - upper bounds\n",
    "\n",
    "$$\n",
    "E_t \\le E_t^{lower}\n",
    "$$\n",
    "\n",
    "$$\n",
    "E_t \\le E_{\\max}\n",
    "$$\n",
    "\n",
    "5. Limit maximum - Big-M linking (with $M = E_{\\max}$)\n",
    "\n",
    "$$\n",
    "E_t \\ge E_t^{lower} - E_{\\max} \\cdot y_t\n",
    "$$\n",
    "\n",
    "$$\n",
    "E_t \\ge E_{\\max} - E_{\\max}\\cdot(1-y_t)\n",
    "$$\n"
   ]
  },
  {
   "cell_type": "code",
   "execution_count": 156,
   "id": "e1302cb7",
   "metadata": {},
   "outputs": [
    {
     "name": "stdout",
     "output_type": "stream",
     "text": [
      "The autoreload extension is already loaded. To reload it, use:\n",
      "  %reload_ext autoreload\n"
     ]
    }
   ],
   "source": [
    "%load_ext autoreload\n",
    "%autoreload 2"
   ]
  },
  {
   "cell_type": "code",
   "execution_count": 157,
   "id": "312a42b5",
   "metadata": {},
   "outputs": [],
   "source": [
    "import random\n",
    "import pyomo.environ as pyo\n",
    "import matplotlib.pyplot as plt"
   ]
  },
  {
   "cell_type": "code",
   "execution_count": 158,
   "id": "0d3e089d",
   "metadata": {},
   "outputs": [],
   "source": [
    "model = pyo.ConcreteModel()\n",
    "\n",
    "Tmax = 200 # maximum time\n",
    "\n",
    "Emax = 28  # maximum energy\n",
    "E0_const = 5  # initial energy"
   ]
  },
  {
   "cell_type": "code",
   "execution_count": 159,
   "id": "86c536e4",
   "metadata": {},
   "outputs": [],
   "source": [
    "# model variables\n",
    "\n",
    "model.T = pyo.RangeSet(1, Tmax)\n",
    "model.T_all = pyo.RangeSet(0, Tmax)   # includes 0\n",
    "\n",
    "model.E = pyo.Var(model.T_all, within=pyo.Reals, bounds=(-Emax, Emax))\n",
    "model.y = pyo.Var(model.T, within=pyo.Binary)\n",
    "\n",
    "model.z = pyo.Var(model.T, within=pyo.Binary)"
   ]
  },
  {
   "cell_type": "code",
   "execution_count": 160,
   "id": "7801c13c",
   "metadata": {},
   "outputs": [],
   "source": [
    "# Initial condition\n",
    "model.E[0].fix(E0_const)"
   ]
  },
  {
   "cell_type": "code",
   "execution_count": 161,
   "id": "0b23da2f",
   "metadata": {},
   "outputs": [],
   "source": [
    "Eh = [random.randint(1, 5)  for t in model.T]  # energy harvested at time t\n",
    "Ec = [random.randint(1, 5)  for t in model.T]  # energy consumed at time t\n"
   ]
  },
  {
   "cell_type": "code",
   "execution_count": 162,
   "id": "5b825f7f",
   "metadata": {},
   "outputs": [],
   "source": [
    "# for the system to be feasible with the values below, Emax must be at least 28 with E0 = 5\n",
    "\n",
    "Eh = [5, 5, 1, 2, 5, 3, 1, 1, 5, 4, 1, 5, 3, 4, 5, 4, 4, 4, 4, 4, 4, 3, 2, 1, 4, 5, 1, 2, 2, 2, 1, 3, 1, 4, 2, 2, 4, 5, 5, 2, 3, 3, 4, 4, 5, 1, 2, 3, 1, 2, 1, 2, 4, 2, 3, 1, 1, 4, 3, 1, 3, 1, 2, 3, 3, 5, 2, 1, 3, 2, 5, 3, 5, 2, 3, 5, 3, 3, 4, 3, 4, 4, 4, 5, 1, 3, 2, 1, 5, 3, 1, 1, 4, 5, 4, 2, 2, 1, 2, 5, 5, 2, 2, 4, 5, 5, 5, 5, 3, 2, 5, 1, 1, 4, 1, 4, 1, 1, 1, 5, 3, 4, 2, 3, 5, 2, 5, 4, 3, 3, 5, 4, 1, 1, 1, 1, 4, 2, 4, 2, 2, 3, 4, 2, 2, 5, 4, 2, 3, 4, 1, 2, 4, 2, 1, 4, 4, 2, 1, 4, 4, 1, 1, 1, 4, 2, 4, 5, 3, 4, 4, 1, 4, 1, 3, 4, 3, 5, 3, 4, 4, 2, 4, 4, 1, 1, 2, 5, 5, 1, 4, 5, 2, 1, 3, 4, 3, 3, 2, 2]\n",
    "Ec = [1, 3, 1, 4, 2, 1, 1, 1, 3, 4, 4, 5, 3, 3, 4, 2, 5, 3, 4, 3, 1, 5, 2, 1, 2, 2, 2, 3, 5, 4, 4, 5, 3, 1, 3, 3, 2, 2, 4, 1, 5, 3, 1, 4, 3, 4, 3, 4, 5, 4, 2, 5, 3, 1, 3, 3, 5, 1, 5, 2, 4, 2, 1, 2, 1, 1, 1, 4, 2, 2, 5, 1, 3, 1, 3, 4, 4, 3, 3, 4, 2, 2, 1, 1, 1, 4, 2, 1, 5, 4, 2, 4, 5, 1, 1, 3, 3, 1, 3, 2, 1, 2, 5, 5, 3, 2, 3, 1, 3, 2, 5, 1, 2, 4, 3, 2, 5, 2, 3, 3, 4, 5, 3, 2, 2, 3, 3, 4, 4, 5, 5, 1, 3, 2, 3, 3, 4, 1, 1, 3, 2, 3, 5, 4, 3, 3, 3, 4, 3, 5, 5, 1, 4, 2, 1, 4, 2, 2, 2, 1, 4, 1, 5, 4, 5, 3, 4, 2, 3, 3, 5, 4, 2, 4, 4, 5, 1, 2, 4, 3, 5, 3, 4, 2, 5, 5, 4, 3, 5, 3, 3, 1, 2, 4, 2, 4, 1, 5, 2, 2]"
   ]
  },
  {
   "cell_type": "markdown",
   "id": "a6564a8c",
   "metadata": {},
   "source": [
    "# Model is not covnerging after several hours of running"
   ]
  },
  {
   "cell_type": "code",
   "execution_count": null,
   "id": "6cd7ecc8",
   "metadata": {},
   "outputs": [],
   "source": [
    "M = 1000 * Emax  # Big-M value\n",
    "epsilon = 1e-6  # 1e-10\n",
    "\n",
    "model.EnergyConstr = pyo.ConstraintList()\n",
    "for t, Eh_t, Ec_t in zip(model.T, Eh, Ec):\n",
    "\n",
    "\n",
    "    # Big-M constraints for z[t] indicating E[t] > 0\n",
    "    model.EnergyConstr.add(model.E[t-1] <= M * model.z[t])\n",
    "    model.EnergyConstr.add(model.E[t-1] >= epsilon - M * (1 - model.z[t]))\n",
    "\n",
    "    # Upper bounds\n",
    "    model.EnergyConstr.add(model.E[t] <= model.E[t-1] + Eh_t - model.z[t] * Ec_t)\n",
    "    model.EnergyConstr.add(model.E[t] <= Emax)\n",
    "\n",
    "    # Max. Capacity binding constraints using y[t]\n",
    "    model.EnergyConstr.add(model.E[t] >= model.E[t-1] + Eh_t - model.z[t] * Ec_t - Emax * model.y[t])\n",
    "    model.EnergyConstr.add(model.E[t] <= Emax - Emax * (1 - model.y[t]))\n"
   ]
  },
  {
   "cell_type": "code",
   "execution_count": 164,
   "id": "3a0eb741",
   "metadata": {},
   "outputs": [],
   "source": [
    "# Objective: maximize sum of E(t)\n",
    "model.Obj = pyo.Objective(expr=sum(model.E[t] for t in model.T),\n",
    "                          sense=pyo.maximize)"
   ]
  },
  {
   "cell_type": "code",
   "execution_count": null,
   "id": "4a3653a7",
   "metadata": {},
   "outputs": [
    {
     "name": "stdout",
     "output_type": "stream",
     "text": [
      "GLPSOL--GLPK LP/MIP Solver 5.0\n",
      "Parameter(s) specified in the command line:\n",
      " --write /tmp/tmpes1qf5r1.glpk.raw --wglp /tmp/tmpm1kq7ehx.glpk.glp --cpxlp\n",
      " /tmp/tmp81xuc85h.pyomo.lp\n",
      "Reading problem data from '/tmp/tmp81xuc85h.pyomo.lp'...\n",
      "/tmp/tmp81xuc85h.pyomo.lp:7206: warning: lower bound of variable 'x203' redefined\n",
      "/tmp/tmp81xuc85h.pyomo.lp:7206: warning: upper bound of variable 'x203' redefined\n",
      "1200 rows, 600 columns, 2796 non-zeros\n",
      "400 integer variables, all of which are binary\n",
      "7606 lines were read\n",
      "Writing problem data to '/tmp/tmpm1kq7ehx.glpk.glp'...\n",
      "6199 lines were written\n",
      "GLPK Integer Optimizer 5.0\n",
      "1200 rows, 600 columns, 2796 non-zeros\n",
      "400 integer variables, all of which are binary\n",
      "Preprocessing...\n",
      "402 constraint coefficient(s) were reduced\n",
      "997 rows, 599 columns, 2591 non-zeros\n",
      "399 integer variables, all of which are binary\n",
      "Scaling...\n",
      " A: min|aij| =  1.000e+00  max|aij| =  2.800e+01  ratio =  2.800e+01\n",
      "GM: min|aij| =  1.890e-01  max|aij| =  5.292e+00  ratio =  2.800e+01\n",
      "EQ: min|aij| =  8.215e-02  max|aij| =  1.000e+00  ratio =  1.217e+01\n",
      "2N: min|aij| =  6.250e-02  max|aij| =  1.750e+00  ratio =  2.800e+01\n",
      "Constructing initial basis...\n",
      "Size of triangular part is 997\n",
      "Solving LP relaxation...\n",
      "GLPK Simplex Optimizer 5.0\n",
      "997 rows, 599 columns, 2591 non-zeros\n",
      "      0: obj =  -5.591000000e+03 inf =   1.501e+02 (200)\n",
      "    200: obj =  -5.591000000e+03 inf =   0.000e+00 (0)\n",
      "*   817: obj =   4.925436985e+03 inf =   8.882e-16 (0) 5\n",
      "OPTIMAL LP SOLUTION FOUND\n",
      "Integer optimization begins...\n",
      "Long-step dual simplex will be used\n",
      "+   817: mip =     not found yet <=              +inf        (1; 0)\n",
      "+  1163: >>>>>   2.932000000e+03 <=   4.717386589e+03  60.9% (150; 0)\n",
      "+  5668: mip =   2.932000000e+03 <=   4.529077417e+03  54.5% (2985; 63)\n",
      "+  9931: mip =   2.932000000e+03 <=   4.479616636e+03  52.8% (5888; 123)\n",
      "+ 14159: mip =   2.932000000e+03 <=   4.461602560e+03  52.2% (8617; 194)\n",
      "+ 19081: mip =   2.932000000e+03 <=   4.450716639e+03  51.8% (11468; 260)\n",
      "+ 24059: mip =   2.932000000e+03 <=   4.436558372e+03  51.3% (14343; 330)\n",
      "+ 28778: mip =   2.932000000e+03 <=   4.422094927e+03  50.8% (17214; 400)\n",
      "+ 35249: mip =   2.932000000e+03 <=   4.405199667e+03  50.2% (20405; 454)\n",
      "+ 41955: mip =   2.932000000e+03 <=   4.387058690e+03  49.6% (23584; 503)\n",
      "+ 48003: mip =   2.932000000e+03 <=   4.369275908e+03  49.0% (26444; 546)\n",
      "+ 54350: mip =   2.932000000e+03 <=   4.356105163e+03  48.6% (29464; 594)\n"
     ]
    }
   ],
   "source": [
    "# Solver (make sure you have glpk or cbc installed)\n",
    "solver = pyo.SolverFactory(\"glpk\")\n",
    "\n",
    "# Solve\n",
    "results = solver.solve(model, tee=True)\n",
    "# Check solver status\n",
    "print(results.solver.status)\n",
    "print(results.solver.termination_condition)"
   ]
  },
  {
   "cell_type": "code",
   "execution_count": null,
   "id": "57205881",
   "metadata": {},
   "outputs": [
    {
     "name": "stdout",
     "output_type": "stream",
     "text": [
      "ERROR: evaluating object as numeric value: E[1]\n",
      "        (object: <class 'pyomo.core.base.var.VarData'>)\n",
      "    No value for uninitialized VarData object E[1]\n"
     ]
    },
    {
     "ename": "ValueError",
     "evalue": "No value for uninitialized VarData object E[1]",
     "output_type": "error",
     "traceback": [
      "\u001b[31m---------------------------------------------------------------------------\u001b[39m",
      "\u001b[31mValueError\u001b[39m                                Traceback (most recent call last)",
      "\u001b[36mCell\u001b[39m\u001b[36m \u001b[39m\u001b[32mIn[155]\u001b[39m\u001b[32m, line 1\u001b[39m\n\u001b[32m----> \u001b[39m\u001b[32m1\u001b[39m E_vals = \u001b[43m[\u001b[49m\u001b[43mpyo\u001b[49m\u001b[43m.\u001b[49m\u001b[43mvalue\u001b[49m\u001b[43m(\u001b[49m\u001b[43mmodel\u001b[49m\u001b[43m.\u001b[49m\u001b[43mE\u001b[49m\u001b[43m[\u001b[49m\u001b[43mt\u001b[49m\u001b[43m]\u001b[49m\u001b[43m)\u001b[49m\u001b[43m \u001b[49m\u001b[38;5;28;43;01mfor\u001b[39;49;00m\u001b[43m \u001b[49m\u001b[43mt\u001b[49m\u001b[43m \u001b[49m\u001b[38;5;129;43;01min\u001b[39;49;00m\u001b[43m \u001b[49m\u001b[43mmodel\u001b[49m\u001b[43m.\u001b[49m\u001b[43mT_all\u001b[49m\u001b[43m]\u001b[49m\n\u001b[32m      2\u001b[39m ts = \u001b[38;5;28mlist\u001b[39m(\u001b[38;5;28mrange\u001b[39m(Tmax + \u001b[32m1\u001b[39m))\n\u001b[32m      4\u001b[39m plt.figure(figsize=(\u001b[32m8\u001b[39m, \u001b[32m5\u001b[39m))\n",
      "\u001b[36mCell\u001b[39m\u001b[36m \u001b[39m\u001b[32mIn[155]\u001b[39m\u001b[32m, line 1\u001b[39m, in \u001b[36m<listcomp>\u001b[39m\u001b[34m(.0)\u001b[39m\n\u001b[32m----> \u001b[39m\u001b[32m1\u001b[39m E_vals = [\u001b[43mpyo\u001b[49m\u001b[43m.\u001b[49m\u001b[43mvalue\u001b[49m\u001b[43m(\u001b[49m\u001b[43mmodel\u001b[49m\u001b[43m.\u001b[49m\u001b[43mE\u001b[49m\u001b[43m[\u001b[49m\u001b[43mt\u001b[49m\u001b[43m]\u001b[49m\u001b[43m)\u001b[49m \u001b[38;5;28;01mfor\u001b[39;00m t \u001b[38;5;129;01min\u001b[39;00m model.T_all]\n\u001b[32m      2\u001b[39m ts = \u001b[38;5;28mlist\u001b[39m(\u001b[38;5;28mrange\u001b[39m(Tmax + \u001b[32m1\u001b[39m))\n\u001b[32m      4\u001b[39m plt.figure(figsize=(\u001b[32m8\u001b[39m, \u001b[32m5\u001b[39m))\n",
      "\u001b[36mFile \u001b[39m\u001b[32m~/.pyenv/versions/3.11.11/envs/model-selection/lib/python3.11/site-packages/pyomo/common/numeric_types.py:384\u001b[39m, in \u001b[36mvalue\u001b[39m\u001b[34m(obj, exception)\u001b[39m\n\u001b[32m    382\u001b[39m     tmp = obj(exception=\u001b[38;5;28;01mTrue\u001b[39;00m)\n\u001b[32m    383\u001b[39m     \u001b[38;5;28;01mif\u001b[39;00m tmp \u001b[38;5;129;01mis\u001b[39;00m \u001b[38;5;28;01mNone\u001b[39;00m:\n\u001b[32m--> \u001b[39m\u001b[32m384\u001b[39m         \u001b[38;5;28;01mraise\u001b[39;00m \u001b[38;5;167;01mValueError\u001b[39;00m(\n\u001b[32m    385\u001b[39m             \u001b[33m\"\u001b[39m\u001b[33mNo value for uninitialized \u001b[39m\u001b[38;5;132;01m%s\u001b[39;00m\u001b[33m object \u001b[39m\u001b[38;5;132;01m%s\u001b[39;00m\u001b[33m\"\u001b[39m\n\u001b[32m    386\u001b[39m             % (\u001b[38;5;28mtype\u001b[39m(obj).\u001b[34m__name__\u001b[39m, obj.name)\n\u001b[32m    387\u001b[39m         )\n\u001b[32m    388\u001b[39m     \u001b[38;5;28;01mreturn\u001b[39;00m tmp\n\u001b[32m    389\u001b[39m \u001b[38;5;28;01mexcept\u001b[39;00m TemplateExpressionError:\n\u001b[32m    390\u001b[39m     \u001b[38;5;66;03m# Template expressions work by catching this error type. So\u001b[39;00m\n\u001b[32m    391\u001b[39m     \u001b[38;5;66;03m# we should defer this error handling and not log an error\u001b[39;00m\n\u001b[32m    392\u001b[39m     \u001b[38;5;66;03m# message.\u001b[39;00m\n",
      "\u001b[31mValueError\u001b[39m: No value for uninitialized VarData object E[1]"
     ]
    }
   ],
   "source": [
    "E_vals = [pyo.value(model.E[t]) for t in model.T_all]\n",
    "ts = list(range(Tmax + 1))\n",
    "\n",
    "plt.figure(figsize=(8, 5))\n",
    "plt.plot(ts, E_vals, label=\"Stored Energy\")\n",
    "plt.plot(ts[1:], Eh, linestyle=\"-\", label=\"Harvested Energy\")\n",
    "plt.plot(ts[1:], Ec, linestyle=\"-\", label=\"Consumed Energy\")\n",
    "plt.xlabel(\"Time step t\")\n",
    "plt.ylabel(\"Value\")\n",
    "plt.title(\"Energy Storage and Harvested Energy over Time\")\n",
    "plt.legend()\n",
    "plt.grid(True)\n",
    "plt.show()\n"
   ]
  },
  {
   "cell_type": "markdown",
   "id": "d85b7b35",
   "metadata": {},
   "source": [
    "Look between t = 100 and t = 125 and you will see that the energy is capped at E_max = 30."
   ]
  },
  {
   "cell_type": "markdown",
   "id": "0b25bace",
   "metadata": {},
   "source": [
    "> Note that this is a simplified example and we are not controlling the consumed energy. In a real-world scenario, you you cannot consume energy if E_t = 0. So if you change Emax to a lower value, the system can become infeasible."
   ]
  }
 ],
 "metadata": {
  "kernelspec": {
   "display_name": "model-selection",
   "language": "python",
   "name": "python3"
  },
  "language_info": {
   "codemirror_mode": {
    "name": "ipython",
    "version": 3
   },
   "file_extension": ".py",
   "mimetype": "text/x-python",
   "name": "python",
   "nbconvert_exporter": "python",
   "pygments_lexer": "ipython3",
   "version": "3.11.11"
  }
 },
 "nbformat": 4,
 "nbformat_minor": 5
}
