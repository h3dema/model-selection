{
 "cells": [
  {
   "cell_type": "code",
   "execution_count": 9,
   "id": "01456f2b",
   "metadata": {},
   "outputs": [
    {
     "name": "stdout",
     "output_type": "stream",
     "text": [
      "The autoreload extension is already loaded. To reload it, use:\n",
      "  %reload_ext autoreload\n"
     ]
    }
   ],
   "source": [
    "%load_ext autoreload\n",
    "%autoreload 2"
   ]
  },
  {
   "cell_type": "code",
   "execution_count": 10,
   "id": "da5326dc",
   "metadata": {},
   "outputs": [],
   "source": [
    "from models import generate_models"
   ]
  },
  {
   "cell_type": "code",
   "execution_count": 11,
   "id": "fd925051",
   "metadata": {},
   "outputs": [
    {
     "name": "stdout",
     "output_type": "stream",
     "text": [
      "Generated 10 models.\n"
     ]
    }
   ],
   "source": [
    "M = 10  # number of models to generate\n",
    "classes = [1, 2, 3, 4, 5]\n",
    "models = generate_models(M, C=classes)\n",
    "print(f\"Generated {len(models)} models.\")"
   ]
  },
  {
   "cell_type": "code",
   "execution_count": 12,
   "id": "1280ceb8",
   "metadata": {},
   "outputs": [
    {
     "name": "stdout",
     "output_type": "stream",
     "text": [
      "Model(energy=6.39426834515204, size=0.25010852721591414) Confidence base: 0.6375146591845596\n"
     ]
    }
   ],
   "source": [
    "model = models[0]\n",
    "print(model, \"Confidence base:\", model.confidence_base)"
   ]
  },
  {
   "cell_type": "code",
   "execution_count": 15,
   "id": "91da8a5c",
   "metadata": {},
   "outputs": [
    {
     "name": "stdout",
     "output_type": "stream",
     "text": [
      "Class confidences:\n",
      "\tClass 1: 0.951\n",
      "\tClass 2: 0.770\n",
      "\tClass 3: 0.845\n",
      "\tClass 4: 0.068\n",
      "\tClass 5: 0.825\n"
     ]
    }
   ],
   "source": [
    "# here we compute the confidence for each class\n",
    "# this is an example of how to simulate the model confidence for predicitions of each class\n",
    "\n",
    "print(\"Class confidences:\")\n",
    "for c in classes:\n",
    "    print(f\"\\tClass {c}: {model.confidence(c):.3f}\")"
   ]
  }
 ],
 "metadata": {
  "kernelspec": {
   "display_name": "model-selection",
   "language": "python",
   "name": "python3"
  },
  "language_info": {
   "codemirror_mode": {
    "name": "ipython",
    "version": 3
   },
   "file_extension": ".py",
   "mimetype": "text/x-python",
   "name": "python",
   "nbconvert_exporter": "python",
   "pygments_lexer": "ipython3",
   "version": "3.11.11"
  }
 },
 "nbformat": 4,
 "nbformat_minor": 5
}
