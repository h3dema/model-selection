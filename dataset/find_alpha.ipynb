{
 "cells": [
  {
   "cell_type": "code",
   "execution_count": 1,
   "id": "b9a65145",
   "metadata": {},
   "outputs": [],
   "source": [
    "import math"
   ]
  },
  {
   "cell_type": "code",
   "execution_count": 2,
   "id": "a7a2ae4b",
   "metadata": {},
   "outputs": [],
   "source": [
    "def H(K, alpha):\n",
    "    # generalized harmonic number H_{K,alpha}\n",
    "    return sum(k**(-alpha) for k in range(1, K+1))\n",
    "\n",
    "def F(m, N, alpha):\n",
    "    return H(m, alpha) / H(N, alpha)\n",
    "\n",
    "def find_alpha_for_mass(N, m, p0, alpha_lo=1.0001, alpha_hi=10.0, tol=1e-10, max_expand=60):\n",
    "    \"\"\"\n",
    "    Find alpha such that Pr(n <= m) >= p0 for Zipf(N, alpha).\n",
    "    Returns (alpha, achieved_probability).\n",
    "    \"\"\"\n",
    "\n",
    "    # expand upper bound if necessary\n",
    "    hi = alpha_hi\n",
    "    for _ in range(max_expand):\n",
    "        if F(m, N, hi) >= p0:\n",
    "            break\n",
    "        hi *= 2.0\n",
    "    else:\n",
    "        raise ValueError(\"Could not find an upper alpha bound (try increasing alpha_hi).\")\n",
    "\n",
    "    lo = alpha_lo\n",
    "    # bisection\n",
    "    for _ in range(100):\n",
    "        mid = 0.5*(lo + hi)\n",
    "        if F(m, N, mid) >= p0:\n",
    "            hi = mid\n",
    "        else:\n",
    "            lo = mid\n",
    "        if hi - lo < tol:\n",
    "            break\n",
    "    return hi, F(m, N, hi)\n"
   ]
  },
  {
   "cell_type": "code",
   "execution_count": 4,
   "id": "1a0ab589",
   "metadata": {},
   "outputs": [
    {
     "name": "stdout",
     "output_type": "stream",
     "text": [
      "Found alpha = 1.422323 with Pr(n <= 50) = 0.900000\n"
     ]
    }
   ],
   "source": [
    "N=500\n",
    "𝑚 = int(0.1 * N)\n",
    "\n",
    "# target probability\n",
    "p0 = 0.9\n",
    "\n",
    "alpha, pf = find_alpha_for_mass(N, m, p0)\n",
    "print(f\"Found alpha = {alpha:.6f} with Pr(n <= {m}) = {pf:.6f}\")"
   ]
  },
  {
   "cell_type": "code",
   "execution_count": 5,
   "id": "0bad0174",
   "metadata": {},
   "outputs": [
    {
     "name": "stdout",
     "output_type": "stream",
     "text": [
      "Found alpha = 1.788574 with Pr(n <= 10) = 0.900000\n"
     ]
    }
   ],
   "source": [
    "m = 10\n",
    "alpha, pf = find_alpha_for_mass(N, m, p0)\n",
    "print(f\"Found alpha = {alpha:.6f} with Pr(n <= {m}) = {pf:.6f}\")"
   ]
  }
 ],
 "metadata": {
  "kernelspec": {
   "display_name": "lab",
   "language": "python",
   "name": "python3"
  },
  "language_info": {
   "codemirror_mode": {
    "name": "ipython",
    "version": 3
   },
   "file_extension": ".py",
   "mimetype": "text/x-python",
   "name": "python",
   "nbconvert_exporter": "python",
   "pygments_lexer": "ipython3",
   "version": "3.11.11"
  }
 },
 "nbformat": 4,
 "nbformat_minor": 5
}
