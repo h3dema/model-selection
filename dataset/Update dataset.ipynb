{
 "cells": [
  {
   "cell_type": "code",
   "execution_count": 43,
   "id": "a8d87943-ec22-420e-b76b-c4723ded0723",
   "metadata": {},
   "outputs": [
    {
     "name": "stdout",
     "output_type": "stream",
     "text": [
      "The autoreload extension is already loaded. To reload it, use:\n",
      "  %reload_ext autoreload\n"
     ]
    }
   ],
   "source": [
    "%load_ext autoreload\n",
    "%autoreload 2\n",
    "\n",
    "%matplotlib inline"
   ]
  },
  {
   "cell_type": "code",
   "execution_count": 44,
   "id": "ef75d478-a13d-4f2d-b097-e4b7633e2d2f",
   "metadata": {},
   "outputs": [],
   "source": [
    "from collections import Counter\n",
    "import matplotlib.pyplot as plt\n",
    "\n",
    "from dataset import create_classes, create_dataset, create_subsets, assign_classes\n",
    "from update_data_for_class import update_subset_for_class\n",
    "from evolution import compute_balanced_transition_matrix, flatten_transition_matrix\n",
    "from evolution import AnimalDatasetEvolution"
   ]
  },
  {
   "cell_type": "code",
   "execution_count": 45,
   "id": "1e8e3af2-9468-49a9-94d3-74ac796de04e",
   "metadata": {},
   "outputs": [],
   "source": [
    "# Example configuration\n",
    "num_classes = 5\n",
    "size_dataset = 2000\n",
    "\n",
    "subset_sizes = [13, 20, 17]\n",
    "num_subsets = 3\n",
    "\n",
    "# Create C and D\n",
    "C = create_classes(num_classes)\n",
    "D = create_dataset(size_dataset)\n",
    "\n",
    "class_map = assign_classes(D, C)\n",
    "subsets = create_subsets(D, subset_sizes)"
   ]
  },
  {
   "cell_type": "code",
   "execution_count": 46,
   "id": "854b54cb",
   "metadata": {},
   "outputs": [
    {
     "name": "stdout",
     "output_type": "stream",
     "text": [
      "⚠️ Transition matrix does not fully satisfy constraints.\n",
      "\tKEEP ratio error: 0.017742\n",
      "\tNet size change per step: 0.008710\n"
     ]
    }
   ],
   "source": [
    "matrix = compute_balanced_transition_matrix(target_keep_ratio=0.95)\n",
    "transition_probs = flatten_transition_matrix(matrix)"
   ]
  },
  {
   "cell_type": "code",
   "execution_count": 47,
   "id": "e35c3c32",
   "metadata": {},
   "outputs": [],
   "source": [
    "evolution_obj = AnimalDatasetEvolution(transition_probs, initial_state='KEEP', seed=123)"
   ]
  },
  {
   "cell_type": "code",
   "execution_count": 48,
   "id": "71185bd5",
   "metadata": {},
   "outputs": [
    {
     "name": "stdout",
     "output_type": "stream",
     "text": [
      "Before update, subset D_1 class distribution: Counter({1: 3, 3: 3, 2: 3, 5: 3, 4: 1})\n",
      "Subset size: 13\n"
     ]
    }
   ],
   "source": [
    "subset_name = 'D_1'\n",
    "subset = subsets[subset_name]\n",
    "c = C[0]\n",
    "print(f\"Before update, subset {subset_name} class distribution: {Counter(class_map[i] for i in subset)}\")\n",
    "print(\"Subset size:\", len(subset))"
   ]
  },
  {
   "cell_type": "code",
   "execution_count": 79,
   "id": "053ef1ec",
   "metadata": {},
   "outputs": [
    {
     "name": "stdout",
     "output_type": "stream",
     "text": [
      "Next state: KEEP\n",
      "After update, subset D_1 class distribution: Counter({1: 3, 3: 3, 2: 3, 5: 3, 4: 1})\n",
      "Subset size: 13\n"
     ]
    }
   ],
   "source": [
    "new_subset = update_subset_for_class(D, subset.copy(), c, class_map, evolution_obj)\n",
    "print(f\"After update, subset {subset_name} class distribution: {Counter(class_map[i] for i in new_subset)}\")\n",
    "print(\"Subset size:\", len(new_subset))"
   ]
  },
  {
   "cell_type": "code",
   "execution_count": null,
   "id": "8c3b9e3e",
   "metadata": {},
   "outputs": [],
   "source": []
  }
 ],
 "metadata": {
  "kernelspec": {
   "display_name": "model-selection",
   "language": "python",
   "name": "python3"
  },
  "language_info": {
   "codemirror_mode": {
    "name": "ipython",
    "version": 3
   },
   "file_extension": ".py",
   "mimetype": "text/x-python",
   "name": "python",
   "nbconvert_exporter": "python",
   "pygments_lexer": "ipython3",
   "version": "3.11.11"
  }
 },
 "nbformat": 4,
 "nbformat_minor": 5
}
