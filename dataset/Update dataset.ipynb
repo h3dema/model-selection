{
 "cells": [
  {
   "cell_type": "code",
   "execution_count": 17,
   "id": "a8d87943-ec22-420e-b76b-c4723ded0723",
   "metadata": {},
   "outputs": [
    {
     "name": "stdout",
     "output_type": "stream",
     "text": [
      "The autoreload extension is already loaded. To reload it, use:\n",
      "  %reload_ext autoreload\n"
     ]
    }
   ],
   "source": [
    "%load_ext autoreload\n",
    "%autoreload 2\n",
    "\n",
    "%matplotlib inline"
   ]
  },
  {
   "cell_type": "code",
   "execution_count": 18,
   "id": "ef75d478-a13d-4f2d-b097-e4b7633e2d2f",
   "metadata": {},
   "outputs": [],
   "source": [
    "import random\n",
    "from collections import Counter\n",
    "import matplotlib.pyplot as plt\n",
    "\n",
    "from dataset import create_classes, create_dataset, create_subsets, assign_classes\n",
    "from update_data_for_class import update_subset_for_class\n",
    "from evolution import compute_balanced_transition_matrix, flatten_transition_matrix\n",
    "from evolution import DatasetEvolution\n",
    "from appearance import ElementAppearance\n",
    "\n",
    "from zipf import zipf_sample"
   ]
  },
  {
   "cell_type": "code",
   "execution_count": 19,
   "id": "1e8e3af2-9468-49a9-94d3-74ac796de04e",
   "metadata": {},
   "outputs": [],
   "source": [
    "# Example configuration\n",
    "num_classes = 5\n",
    "size_dataset = 2000\n",
    "\n",
    "subset_sizes = [13, 20, 17]\n",
    "num_subsets = 3\n",
    "\n",
    "T = 100000  # Total time steps\n",
    "\n",
    "# Create C and D\n",
    "C = create_classes(num_classes)\n",
    "D = create_dataset(size_dataset)\n",
    "\n",
    "class_map = assign_classes(D, C)\n",
    "subsets = create_subsets(D, subset_sizes)"
   ]
  },
  {
   "cell_type": "code",
   "execution_count": 20,
   "id": "6843a2eb",
   "metadata": {},
   "outputs": [],
   "source": [
    "subset_name = 'D_1'"
   ]
  },
  {
   "cell_type": "markdown",
   "id": "fc62d37b",
   "metadata": {},
   "source": [
    "## Create the evolution for each class"
   ]
  },
  {
   "cell_type": "code",
   "execution_count": 21,
   "id": "a5491572",
   "metadata": {},
   "outputs": [],
   "source": [
    "p_aa = 0.5\n",
    "p_an = 1 - p_aa\n",
    "p_nn = 0.9993742\n",
    "p_na = 1 - p_nn\n",
    "\n",
    "animal_appearance = ElementAppearance(p_aa=p_aa, p_an=p_an, p_na=p_na, p_nn=p_nn, seed=42)"
   ]
  },
  {
   "cell_type": "markdown",
   "id": "12173294",
   "metadata": {},
   "source": [
    "## Evolution of classes in simulation"
   ]
  },
  {
   "cell_type": "code",
   "execution_count": 22,
   "id": "7eeb817c",
   "metadata": {},
   "outputs": [
    {
     "name": "stdout",
     "output_type": "stream",
     "text": [
      "⚠️ Transition matrix does not fully satisfy constraints.\n",
      "\tKEEP ratio error: 0.031258\n",
      "\tNet size change per step: 0.008710\n"
     ]
    }
   ],
   "source": [
    "matrix_class = compute_balanced_transition_matrix(target_keep_ratio=0.999)\n",
    "transition_probs_class = flatten_transition_matrix(matrix_class)\n",
    "evolution_class_in_subset = DatasetEvolution(transition_probs_class, initial_state='KEEP', seed=123)\n",
    "\n",
    "class_evolution = evolution_class_in_subset.simulate(T)"
   ]
  },
  {
   "cell_type": "markdown",
   "id": "2cfae80a",
   "metadata": {},
   "source": [
    "## Evolution of elements in simulation"
   ]
  },
  {
   "cell_type": "code",
   "execution_count": 23,
   "id": "cd3401e7",
   "metadata": {},
   "outputs": [
    {
     "name": "stdout",
     "output_type": "stream",
     "text": [
      "⚠️ Transition matrix does not fully satisfy constraints.\n",
      "\tKEEP ratio error: 0.017742\n",
      "\tNet size change per step: 0.008710\n"
     ]
    }
   ],
   "source": [
    "matrix = compute_balanced_transition_matrix(target_keep_ratio=0.95)\n",
    "transition_probs = flatten_transition_matrix(matrix)\n",
    "evolution_obj = DatasetEvolution(transition_probs, initial_state='KEEP', seed=1)\n",
    "\n",
    "element_evolution = evolution_obj.simulate(T)"
   ]
  },
  {
   "cell_type": "markdown",
   "id": "5a751f24",
   "metadata": {},
   "source": [
    "## Simulate subset updates"
   ]
  },
  {
   "cell_type": "code",
   "execution_count": 24,
   "id": "71185bd5",
   "metadata": {},
   "outputs": [
    {
     "name": "stdout",
     "output_type": "stream",
     "text": [
      "Before update, subset D_1 class distribution: Counter({2: 4, 4: 3, 3: 3, 5: 2, 1: 1})\n",
      "Subset size: 13\n"
     ]
    }
   ],
   "source": [
    "subset = subsets[subset_name]\n",
    "print(f\"Before update, subset {subset_name} class distribution: {Counter(class_map[i] for i in subset)}\")\n",
    "print(\"Subset size:\", len(subset))"
   ]
  },
  {
   "cell_type": "code",
   "execution_count": null,
   "id": "053ef1ec",
   "metadata": {},
   "outputs": [
    {
     "name": "stdout",
     "output_type": "stream",
     "text": [
      "Time step 40: class state KEEP, element state REMOVE\n"
     ]
    }
   ],
   "source": [
    "for t, class_state, element_state in zip(range(T), class_evolution, element_evolution):\n",
    "    # ---- Setup phase ----\n",
    "    # Randomly pick a class to predict by the device\n",
    "    if animal_appearance.step() == 'APPEAR':\n",
    "        # must use model for prediction\n",
    "        pass\n",
    "\n",
    "    # ---- Operation phase ----\n",
    "    # run model to predict class\n",
    "\n",
    "    # ---- Cleanup phase ----\n",
    "\n",
    "    # select a class to update\n",
    "    if class_state == 'KEEP':\n",
    "        pass # do nothing\n",
    "\n",
    "    elif element_state == 'INSERT':\n",
    "        c = random.choice(C)\n",
    "        # TODO: use evolution_class_in_subset to decide whether to add new class or remove existing class from subset\n",
    "        print(f\"Time step {t}: class state {class_state}, element state {element_state}\")\n",
    "        break\n",
    "\n",
    "    elif element_state == 'REMOVE':\n",
    "        print(f\"Time step {t}: class state {class_state}, element state {element_state}\")\n",
    "        break\n",
    "\n",
    "    # update an element of subset for class c\n",
    "    if element_state == 'KEEP':\n",
    "        pass # do nothing\n",
    "\n",
    "    elif element_state == 'INSERT':\n",
    "        # sample\n",
    "        print(f\"Time step {t}: class state {class_state}, element state {element_state}\")\n",
    "\n",
    "        new_subset = None\n",
    "        print(f\"After update, subset {subset_name} class distribution: {Counter(class_map[i] for i in new_subset)}\")\n",
    "        print(\"Subset size:\", len(new_subset))\n",
    "\n",
    "        break\n",
    "\n",
    "    elif element_state == 'REMOVE':\n",
    "        print(f\"Time step {t}: class state {class_state}, element state {element_state}\")\n",
    "        break\n"
   ]
  },
  {
   "cell_type": "code",
   "execution_count": null,
   "id": "8c3b9e3e",
   "metadata": {},
   "outputs": [],
   "source": []
  }
 ],
 "metadata": {
  "kernelspec": {
   "display_name": "model-selection",
   "language": "python",
   "name": "python3"
  },
  "language_info": {
   "codemirror_mode": {
    "name": "ipython",
    "version": 3
   },
   "file_extension": ".py",
   "mimetype": "text/x-python",
   "name": "python",
   "nbconvert_exporter": "python",
   "pygments_lexer": "ipython3",
   "version": "3.11.11"
  }
 },
 "nbformat": 4,
 "nbformat_minor": 5
}
